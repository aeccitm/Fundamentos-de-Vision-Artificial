{
 "cells": [
  {
   "cell_type": "code",
   "execution_count": 1,
   "metadata": {},
   "outputs": [],
   "source": [
    "from skimage import feature\n",
    "import numpy as np\n",
    "from skimage.transform import rotate\n",
    "from skimage.feature import local_binary_pattern\n",
    "from skimage import data\n",
    "from skimage.color import label2rgb\n",
    "import matplotlib.pyplot as plt\n",
    "import numpy as np\n",
    "import cv2\n",
    "from os import listdir\n",
    "import time\n",
    "from os.path import isfile, join"
   ]
  },
  {
   "cell_type": "code",
   "execution_count": 2,
   "metadata": {},
   "outputs": [],
   "source": [
    "class LocalBinaryPatterns:\n",
    "\tdef __init__(self, numPoints, radius):\n",
    "\t\t# store the number of points and radius\n",
    "\t\tself.numPoints = numPoints\n",
    "\t\tself.radius = radius\n",
    "\tdef describe(self, image, eps=1e-7):\n",
    "\t\t# compute the Local Binary Pattern representation\n",
    "\t\t# of the image, and then use the LBP representation\n",
    "\t\t# to build the histogram of patterns\n",
    "\t\tlbp = feature.local_binary_pattern(image, self.numPoints,\n",
    "\t\t\tself.radius, method=\"uniform\")\n",
    "\t\t(hist, _) = np.histogram(lbp.ravel(),\n",
    "\t\t\tbins=np.arange(0, self.numPoints + 3),\n",
    "\t\t\trange=(0, self.numPoints + 2))\n",
    "\t\t# normalize the histogram\n",
    "\t\thist = hist.astype(\"float\")\n",
    "\t\thist /= (hist.sum() + eps)\n",
    "\t\t# return the histogram of Local Binary Patterns\n",
    "\t\treturn hist\n",
    "\n",
    "    #la clase me devuelve el metodo hist dentro de este metodo se encuentran caracteriaticas\n",
    "    #del histograma de la imagen que entre a la funcion  y por lo tanto me devuelve caracteriaticas\n",
    "    #de la textura, dichas caractristicas se encuentra en la variable hist que es de tipo arreglo\n",
    "descriptor=LocalBinaryPatterns(24,8)   \n"
   ]
  },
  {
   "cell_type": "code",
   "execution_count": 3,
   "metadata": {},
   "outputs": [
    {
     "name": "stdout",
     "output_type": "stream",
     "text": [
      "(395, 525, 3)\n"
     ]
    }
   ],
   "source": [
    "conti=0\n",
    "cont2=0\n",
    "etiquetagris=1\n",
    "\n",
    "img = cv2.imread(r'C:\\Users\\Sebastian\\OneDrive - INSTITUTO TECNOLOGICO METROPOLITANO - ITM\\Desktop\\Cursos_vision artificial\\Clasificacion_Enfermedades_Hojas_Maiz\\data\\Gray_Leaf_Spot\\Corn_Gray_Spot (1).jpg')\n",
    "img3 = cv2.imread(r'C:\\Users\\Sebastian\\OneDrive - INSTITUTO TECNOLOGICO METROPOLITANO - ITM\\Desktop\\Cursos_vision artificial\\Clasificacion_Enfermedades_Hojas_Maiz\\data\\Gray_Leaf_Spot\\Corn_Gray_Spot (1).jpg')\n",
    "print(img.shape)\n",
    "\n",
    "height, width,profun = img.shape[:]  # Obtenemos sus dimensiones\n",
    "img2 = np.zeros((height, width,profun), np.uint8) #creamos una imagen vacia\n",
    "img2s=np.zeros((height, width,profun), np.uint8)"
   ]
  },
  {
   "cell_type": "code",
   "execution_count": 4,
   "metadata": {},
   "outputs": [],
   "source": [
    "def draw_rec(event, x, y, flags, param):\n",
    "    global ix, iy, drawing, mode,x2,y2,x1,y1  # Defino unas variables globales  \n",
    "    if event == cv2.EVENT_LBUTTONDOWN:  # Se pregunta si se ha presionado el mouse,tecla izqu\n",
    "        drawing = True  # En caso de ser verdado se asigna una variable boleana\n",
    "        ix, iy = x, y  # Almacenamos la posicion incial en las variales\n",
    "        x1,y1=x,y# variables iniciales para el recorte de la imagen\n",
    "        for i in range(0,50+1):\n",
    "            x=ix+i\n",
    "            y=iy+i\n",
    "    \n",
    "        x2,y2 = x,y #coordenadas rectangulo\n",
    "        cv2.rectangle(img, (ix, iy), (x,y),color=(0, 255, 0), thickness=2)\n",
    "        return x1,x2,y1,y2\n",
    "                "
   ]
  },
  {
   "cell_type": "code",
   "execution_count": 5,
   "metadata": {},
   "outputs": [],
   "source": [
    "features=[] \n",
    "cv2.namedWindow('image',cv2.WINDOW_NORMAL) #nombre de la ventana\n",
    "cv2.setMouseCallback('image', draw_rec)  # Muestro las imagenes, operar con eventos por medio del mouse sobre la ventana creada,draw circle recibe los eventos\n",
    "while 1:        \n",
    "    if cv2.waitKey(1) & 0xFF == ord('c'):\n",
    "        conti=conti+1\n",
    "        print('imagen',conti)\n",
    "        cv2.waitKey(0)\n",
    "        cv2.destroyAllWindows()\n",
    "        break\n",
    "        break        \n",
    "    cv2.namedWindow('image') #nombre de la ventana\n",
    "    cv2.setMouseCallback('image', draw_rec) \n",
    "    cv2.imshow('image', img)#muestra la imagen creada en la ventana\n",
    "    if cv2.waitKey(1) & 0xFF == ord('q'):#actualiza constantemente la imagen,si presiona 'q' para cerrar\n",
    "        for j in range(x1, x2+2):\n",
    "            for i in range(y1, y2+2):\n",
    "                img2[i,j,:] = img3[i,j,:] #Guardamos el rectangulo en una nueva imagen con sus respectivas coor\n",
    "                #img2s[i,j,:] = img3s[i,j,:]\n",
    "       \n",
    "        imgcropped=img2[iy:y2,ix:x2]\n",
    "       \n",
    "        gray = cv2.cvtColor(imgcropped, cv2.COLOR_BGR2GRAY)  \n",
    "        descriptor=LocalBinaryPatterns(24,8)\n",
    "        \n",
    "        histograma=descriptor.describe(gray)#guarda las caractristicas del histograma\n",
    "        chart=[histograma[0],histograma[1],histograma[2],histograma[3],histograma[4],histograma[5],histograma[6],histograma[7],histograma[8],histograma[9],histograma[10],histograma[11],histograma[12],histograma[13],histograma[14],histograma[15],histograma[16],histograma[17],histograma[18],histograma[19],histograma[20],histograma[21],histograma[22],histograma[23],histograma[24],histograma[25],etiquetagris]\n",
    "        features.append(chart)\n",
    "        cv2.imshow('region seleccionada',imgcropped)\n",
    "        print(features)\n",
    "\n",
    "        cv2.waitKey(0)\n",
    "        cv2.destroyAllWindows()\n",
    "       "
   ]
  }
 ],
 "metadata": {
  "kernelspec": {
   "display_name": "Python 3",
   "language": "python",
   "name": "python3"
  },
  "language_info": {
   "codemirror_mode": {
    "name": "ipython",
    "version": 3
   },
   "file_extension": ".py",
   "mimetype": "text/x-python",
   "name": "python",
   "nbconvert_exporter": "python",
   "pygments_lexer": "ipython3",
   "version": "3.10.9"
  },
  "orig_nbformat": 4
 },
 "nbformat": 4,
 "nbformat_minor": 2
}
