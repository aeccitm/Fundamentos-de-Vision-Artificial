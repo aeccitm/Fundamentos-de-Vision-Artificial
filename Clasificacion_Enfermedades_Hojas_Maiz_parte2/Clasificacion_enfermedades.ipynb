{
 "cells": [
  {
   "cell_type": "code",
   "execution_count": 1,
   "metadata": {},
   "outputs": [],
   "source": [
    "from sklearn.model_selection import train_test_split\n",
    "from sklearn import svm\n",
    "from skimage import feature\n",
    "import numpy as np\n",
    "from skimage.transform import rotate\n",
    "from skimage.feature import local_binary_pattern\n",
    "from skimage import data\n",
    "from skimage.color import label2rgb\n",
    "import matplotlib.pyplot as plt\n",
    "import numpy as np\n",
    "import cv2\n",
    "from os import listdir\n",
    "import time\n",
    "from os.path import isfile, join\n",
    "\n",
    "\n",
    "# Load dataset\n",
    "dataset = np.loadtxt('base1200maiz.txt', delimiter='\\t')\n",
    "data, labels = dataset[:, 0:4], dataset[:, 5]\n",
    "\n",
    "# Split dataset\n",
    "data_train, data_test, labels_train, labels_test = train_test_split(data, labels, test_size=0.18, random_state=42)"
   ]
  },
  {
   "cell_type": "code",
   "execution_count": 2,
   "metadata": {},
   "outputs": [
    {
     "name": "stdout",
     "output_type": "stream",
     "text": [
      "[[0.33   0.2075 0.225  0.2375]\n",
      " [0.24   0.3625 0.205  0.1925]\n",
      " [0.2    0.3475 0.295  0.1575]\n",
      " ...\n",
      " [0.2475 0.2825 0.285  0.185 ]\n",
      " [0.2825 0.255  0.2475 0.215 ]\n",
      " [0.1575 0.415  0.2975 0.13  ]]\n"
     ]
    }
   ],
   "source": [
    "print(data_train)"
   ]
  },
  {
   "cell_type": "code",
   "execution_count": 3,
   "metadata": {},
   "outputs": [
    {
     "data": {
      "text/plain": [
       "(984, 4)"
      ]
     },
     "execution_count": 3,
     "metadata": {},
     "output_type": "execute_result"
    }
   ],
   "source": [
    "data_train.shape"
   ]
  },
  {
   "cell_type": "code",
   "execution_count": 4,
   "metadata": {},
   "outputs": [
    {
     "name": "stdout",
     "output_type": "stream",
     "text": [
      "Porcentaje de efectividad:  0.4722222222222222\n"
     ]
    }
   ],
   "source": [
    "# Train classifier\n",
    "clf = svm.SVC(kernel='rbf')\n",
    "clf.fit(data_train, labels_train)\n",
    "print(\"Porcentaje de efectividad: \", clf.score(data_test, labels_test))\n",
    "features = []\n",
    "\n",
    "class LocalBinaryPatterns:\n",
    "\tdef __init__(self, numPoints, radius):\n",
    "\t\t# store the number of points and radius\n",
    "\t\tself.numPoints = numPoints\n",
    "\t\tself.radius = radius\n",
    "\tdef describe(self, image, eps=1e-7):\n",
    "\t\t# compute the Local Binary Pattern representation\n",
    "\t\t# of the image, and then use the LBP representation\n",
    "\t\t# to build the histogram of patterns\n",
    "\t\tlbp = feature.local_binary_pattern(image, self.numPoints,\n",
    "\t\t\tself.radius, method=\"uniform\")\n",
    "\t\t(hist, _) = np.histogram(lbp.ravel(),\n",
    "\t\t\tbins=np.arange(0, self.numPoints + 3),\n",
    "\t\t\trange=(0, self.numPoints + 2))\n",
    "\t\t# normalize the histogram\n",
    "\t\thist = hist.astype(\"float\")\n",
    "\t\thist /= (hist.sum() + eps)\n",
    "\t\t# return the histogram of Local Binary Patterns\n",
    "\t\treturn hist\n"
   ]
  },
  {
   "cell_type": "code",
   "execution_count": 5,
   "metadata": {},
   "outputs": [
    {
     "name": "stdout",
     "output_type": "stream",
     "text": [
      "(433, 527, 3)\n"
     ]
    }
   ],
   "source": [
    "img = cv2.imread(r'C:\\Users\\Sebastian\\OneDrive - INSTITUTO TECNOLOGICO METROPOLITANO - ITM\\Desktop\\Cursos_vision artificial\\Clasificacion_Enfermedades_Hojas_Maiz\\data\\Gray_Leaf_Spot\\Corn_Gray_Spot (6).jpg')\n",
    "img3 = cv2.imread(r'C:\\Users\\Sebastian\\OneDrive - INSTITUTO TECNOLOGICO METROPOLITANO - ITM\\Desktop\\Cursos_vision artificial\\Clasificacion_Enfermedades_Hojas_Maiz\\data\\Gray_Leaf_Spot\\Corn_Gray_Spot (6).jpg')\n",
    "print(img.shape)\n",
    "height, width,profun = img3.shape[:]  # Obtenemos sus dimensiones\n",
    "img2 = np.zeros((height, width,profun), np.uint8) #creamos una imagen vacia"
   ]
  },
  {
   "cell_type": "code",
   "execution_count": 6,
   "metadata": {},
   "outputs": [],
   "source": [
    "#  funcion de llamado del mouse\n",
    "def draw_rec(event, x, y, flags, param): # Se declara la funcion. \n",
    "    global ix, iy, drawing, mode,x2,y2,x1,y1  # Defino unas variables globales\n",
    "    if event == cv2.EVENT_LBUTTONDOWN:  # Se pregunta si se ha presionado el mouse,tecla izqu\n",
    "        drawing = True  # En caso de ser verdado se asigna una variable boleana\n",
    "        ix, iy = x, y  # Almacenamos la posicion incial en las variales\n",
    "        x1,y1=x,y# variables iniciales para el recorte de la imagen\n",
    "        print(ix, iy)\n",
    "        for i in range(0,21):\n",
    "                  x=ix+i\n",
    "                  y=iy+i\n",
    "                  cv2.rectangle(img, (ix-20, iy-20), (x,y), (0, 0, 0), -1)\n",
    "\n",
    "        x2,y2 = x,y #coordenadas rectangulo\n",
    "                 \n",
    "cv2.namedWindow('image') #nombre de la ventana\n",
    "cv2.setMouseCallback('image', draw_rec)  # Muestro las imagenes, operar con eventos por medio del mouse sobre la ventana creada,draw circle recibe los eventos"
   ]
  },
  {
   "cell_type": "code",
   "execution_count": 7,
   "metadata": {},
   "outputs": [
    {
     "name": "stdout",
     "output_type": "stream",
     "text": [
      "225 101\n",
      "[0.]\n",
      "Hoja Sana\n"
     ]
    },
    {
     "ename": "KeyboardInterrupt",
     "evalue": "",
     "output_type": "error",
     "traceback": [
      "\u001b[1;31m---------------------------------------------------------------------------\u001b[0m",
      "\u001b[1;31mKeyboardInterrupt\u001b[0m                         Traceback (most recent call last)",
      "Cell \u001b[1;32mIn[7], line 6\u001b[0m\n\u001b[0;32m      3\u001b[0m     \u001b[39mbreak\u001b[39;00m \n\u001b[0;32m      5\u001b[0m cv2\u001b[39m.\u001b[39mimshow(\u001b[39m'\u001b[39m\u001b[39mimage\u001b[39m\u001b[39m'\u001b[39m, img)\u001b[39m#muestra la imagen creada en la ventana\u001b[39;00m\n\u001b[1;32m----> 6\u001b[0m \u001b[39mif\u001b[39;00m cv2\u001b[39m.\u001b[39;49mwaitKey(\u001b[39m1\u001b[39;49m) \u001b[39m&\u001b[39m \u001b[39m0xFF\u001b[39m \u001b[39m==\u001b[39m \u001b[39mord\u001b[39m(\u001b[39m'\u001b[39m\u001b[39mq\u001b[39m\u001b[39m'\u001b[39m):\u001b[39m#actualiza constantemente la imagen,si presiona 'q' para cerrar\u001b[39;00m\n\u001b[0;32m      7\u001b[0m     \u001b[39mif\u001b[39;00m x2 \u001b[39m>\u001b[39m height:\u001b[39m#restringimos las coordenadas del rectangulo\u001b[39;00m\n\u001b[0;32m      8\u001b[0m         x2 \u001b[39m=\u001b[39m height\n",
      "\u001b[1;31mKeyboardInterrupt\u001b[0m: "
     ]
    },
    {
     "ename": "",
     "evalue": "",
     "output_type": "error",
     "traceback": [
      "\u001b[1;31mThe Kernel crashed while executing code in the the current cell or a previous cell. Please review the code in the cell(s) to identify a possible cause of the failure. Click <a href='https://aka.ms/vscodeJupyterKernelCrash'>here</a> for more info. View Jupyter <a href='command:jupyter.viewOutput'>log</a> for further details."
     ]
    }
   ],
   "source": [
    "while 1:#while true, ciclo infinito\n",
    "    if cv2.waitKey(1) & 0xFF == ord('c'):\n",
    "        break \n",
    "    \n",
    "    cv2.imshow('image', img)#muestra la imagen creada en la ventana\n",
    "    if cv2.waitKey(1) & 0xFF == ord('q'):#actualiza constantemente la imagen,si presiona 'q' para cerrar\n",
    "        if x2 > height:#restringimos las coordenadas del rectangulo\n",
    "            x2 = height\n",
    "        elif y2 > width:\n",
    "            y2 = width\n",
    "        \n",
    "        for j in range(x1, x2):\n",
    "            for i in range(y1, y2):\n",
    "                img2[i,j,:] = img3[i,j,:] #Guardamos el rectangulo en una nueva imagen con sus respectivas coor\n",
    "                \n",
    "        imgcropped=img3[iy:y2,ix:x2]\n",
    "        gray=cv2.cvtColor(imgcropped, cv2.COLOR_BGR2GRAY)\n",
    "        descriptor=LocalBinaryPatterns(3,1)\n",
    "        histograma=descriptor.describe(gray)\n",
    "        histogramat = histograma.astype(\"float\")\n",
    "        features = np.array([histograma[0],histograma[1],histograma[2],histograma[3]])\n",
    "        features=features.reshape(1, -1)\n",
    "       # print(features.shape)\n",
    "        enf = clf.predict(features)\n",
    "        print(enf)\n",
    "\n",
    "        if enf == 0:\n",
    "            print(\"Hoja Sana\")\n",
    "        elif enf == 1:\n",
    "            print(\"Enfermedad de la hoja gris\")\n",
    "        elif enf == 2:\n",
    "            print(\"Enfermedad del óxido\")\n",
    "        elif enf == 3:\n",
    "            print(\"Enfermedad por plaga\")\n",
    "       \n",
    "        \n",
    "        cv2.imshow('img',img)\n",
    "        cv2.imshow('recorte',imgcropped)\n",
    "        cv2.waitKey(0)\n",
    "        cv2.destroyAllWindows()      \n",
    "                       \n",
    "        # Se esperan 30ms para el cierre de la ventana o hasta que el usuario presione la tecla q\n",
    "cv2.waitKey(0)  # Se espera a pulsar cualquier tecla para cerrar la imagen\n",
    "cv2.destroyAllWindows()  # Cierre de ventanas"
   ]
  }
 ],
 "metadata": {
  "kernelspec": {
   "display_name": "Python 3",
   "language": "python",
   "name": "python3"
  },
  "language_info": {
   "codemirror_mode": {
    "name": "ipython",
    "version": 3
   },
   "file_extension": ".py",
   "mimetype": "text/x-python",
   "name": "python",
   "nbconvert_exporter": "python",
   "pygments_lexer": "ipython3",
   "version": "3.10.9"
  },
  "orig_nbformat": 4
 },
 "nbformat": 4,
 "nbformat_minor": 2
}
